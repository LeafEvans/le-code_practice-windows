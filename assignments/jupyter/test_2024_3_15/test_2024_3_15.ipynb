{
 "cells": [
  {
   "cell_type": "code",
   "execution_count": 1,
   "metadata": {},
   "outputs": [],
   "source": [
    "from scipy.optimize import linprog, minimize, linear_sum_assignment\n",
    "import numpy as np\n",
    "import pulp as pp\n",
    "import cvxpy as cp\n",
    "import matplotlib.pyplot as plt\n",
    "\n",
    "plt.rcParams[\"font.family\"] = \"Inter\"\n",
    "plt.style.use(\"ggplot\")"
   ]
  },
  {
   "cell_type": "code",
   "execution_count": 17,
   "metadata": {},
   "outputs": [
    {
     "name": "stdout",
     "output_type": "stream",
     "text": [
      "优化结果：14.571428571428571\n",
      "参数取值：[6.428571428571429, 0.5714285714285712, 0.0]\n"
     ]
    }
   ],
   "source": [
    "c = [-2, -3, 5]\n",
    "A_ub = [[-2, 5, -1], [1, 3, 1]]\n",
    "b_ub = [-10, 12]\n",
    "A_eq = [[1, 1, 1]]\n",
    "b_eq = 7\n",
    "\n",
    "bounds = 3 * [(0, None)]\n",
    "res = linprog(c, A_ub=A_ub, b_ub=b_ub, A_eq=A_eq, b_eq=b_eq, bounds=bounds)\n",
    "print(f\"优化结果：{-res.fun}\")\n",
    "print(f\"参数取值：{list(res.x)}\")"
   ]
  },
  {
   "cell_type": "code",
   "execution_count": 23,
   "metadata": {},
   "outputs": [
    {
     "name": "stdout",
     "output_type": "stream",
     "text": [
      "优化结果：14.0\n",
      "参数取值：[7.0, 0.0, 0.0]\n"
     ]
    }
   ],
   "source": [
    "c = [2, 3, 1]\n",
    "A_ub = [[2, -5, 1], [1, 3, 1]]\n",
    "b_ub = [10, 12]\n",
    "A_eq = [1, 1, 1]\n",
    "b_eq = 7\n",
    "\n",
    "prob = pp.LpProblem(\"max_z\", sense=pp.LpMaximize)\n",
    "x = [\n",
    "    pp.LpVariable(f\"x{i}\", lowBound=0, upBound=None, cat=pp.LpInteger)\n",
    "    for i in [1, 2, 3]\n",
    "]\n",
    "prob += pp.lpDot(c, x)\n",
    "\n",
    "prob += pp.lpDot(A_ub[0], x) >= 10\n",
    "prob += pp.lpDot(A_ub[1], x) <= 12\n",
    "prob += pp.lpDot(A_eq, x) == 7\n",
    "\n",
    "prob.solve()\n",
    "\n",
    "print(f\"优化结果：{pp.value(prob.objective)}\")\n",
    "print(f\"参数取值：{[pp.value(var) for var in x]}\")"
   ]
  },
  {
   "cell_type": "code",
   "execution_count": 29,
   "metadata": {},
   "outputs": [
    {
     "name": "stdout",
     "output_type": "stream",
     "text": [
      "优化结果：305.96739130439465\n",
      "参数取值：[176.08675476864983, 250.0, 273.91324523135023]\n"
     ]
    }
   ],
   "source": [
    "def fun(x):\n",
    "    return (\n",
    "        4\n",
    "        + 0.3 * x[0]\n",
    "        + 0.0007 * x[0] ** 2\n",
    "        + 3\n",
    "        + 0.32 * x[1]\n",
    "        + 0.0004 * x[1] ** 2\n",
    "        + 3.5\n",
    "        + 0.3 * x[2]\n",
    "        + 0.00045 * x[2] ** 2\n",
    "    )\n",
    "\n",
    "\n",
    "def constraints():\n",
    "    return ({\"type\": \"eq\", \"fun\": lambda x: x[0] + x[1] + x[2] - 700},)\n",
    "\n",
    "\n",
    "bounds = [(100, 200), (120, 250), (150, 300)]\n",
    "\n",
    "constraints = constraints()\n",
    "x0 = np.array([150, 250, 20])\n",
    "res = minimize(fun, x0, method=\"SLSQP\", constraints=constraints, bounds=bounds)\n",
    "print(f\"优化结果：{res.fun}\")\n",
    "print(f\"参数取值：{res.x.tolist()}\")"
   ]
  },
  {
   "cell_type": "code",
   "execution_count": 41,
   "metadata": {},
   "outputs": [
    {
     "name": "stdout",
     "output_type": "stream",
     "text": [
      "优化结果：[306.32260079]\n",
      "参数取值：[185.02432842 240.18202298 274.79364859]\n"
     ]
    }
   ],
   "source": [
    "from sko.GA import GA\n",
    "\n",
    "\n",
    "def func(x):\n",
    "    return (\n",
    "        4\n",
    "        + 0.3 * x[0]\n",
    "        + 0.0007 * x[0] ** 2\n",
    "        + 3\n",
    "        + 0.32 * x[1]\n",
    "        + 0.0004 * x[1] ** 2\n",
    "        + 3.5\n",
    "        + 0.3 * x[2]\n",
    "        + 0.00045 * x[2] ** 2\n",
    "    )\n",
    "\n",
    "\n",
    "def constraints_eq():\n",
    "    return lambda x: x[0] + x[1] + x[2] - 700\n",
    "\n",
    "\n",
    "constraints_eq = constraints_eq()\n",
    "\n",
    "ga = GA(\n",
    "    func=func,\n",
    "    n_dim=3,\n",
    "    size_pop=200,\n",
    "    max_iter=500,\n",
    "    lb=[100, 120, 150],\n",
    "    ub=[200, 250, 300],\n",
    "    constraint_eq=[constraints_eq],\n",
    ")\n",
    "best_x, best_y = ga.run()\n",
    "print(f\"优化结果：{best_y}\")\n",
    "print(f\"参数取值：{best_x}\")"
   ]
  },
  {
   "cell_type": "code",
   "execution_count": 44,
   "metadata": {},
   "outputs": [
    {
     "data": {
      "image/png": "[encoded data removed]",
      "text/plain": [
       "<Figure size 640x480 with 1 Axes>"
      ]
     },
     "metadata": {},
     "output_type": "display_data"
    }
   ],
   "source": [
    "history = ga.all_history_Y\n",
    "func_list = [min(i) for i in history]\n",
    "plt.plot(np.arange(1, 501), func_list)\n",
    "plt.show()"
   ]
  },
  {
   "cell_type": "markdown",
   "metadata": {},
   "source": [
    "$$\n",
    "\\min f(x) = \\sum_{i = 1}^6 \\sum_{j = 1}^2 m_{ij} \\sqrt{(x_j - a_i)^2 + (y_j - b_i)^2} \\\\\n",
    "s.t.\n",
    "\\begin{cases}\n",
    "\\sum_{i = 1}^6 m_{ij} \\le 20,\\ j = 1,\\ 2 \\\\\n",
    "\\sum_{j = 1}^2 m_{ij} = d_i,\\ i = 1,\\ 2,\\ \\dots,\\ 6 \\\\\n",
    "m_{ij} \\ge 0 \\\\\n",
    "x_1,\\ x_2,\\ y_1,\\ y_2 \\ge 0\n",
    "\\end{cases}"
   ]
  },
  {
   "cell_type": "code",
   "execution_count": 57,
   "metadata": {},
   "outputs": [
    {
     "data": {
      "text/plain": [
       "array([9.16294620e-01, 4.83173448e+00, 2.42648217e+00, 5.71973525e+00,\n",
       "       2.55555814e+00, 2.63354370e-07, 1.40263756e-11, 2.02742035e-11,\n",
       "       6.00020329e+00, 1.10001202e+01, 1.04663983e+00, 5.46962983e+00,\n",
       "       5.90466927e+00, 7.57906128e+00, 7.51622017e-13, 3.25639535e-12])"
      ]
     },
     "execution_count": 57,
     "metadata": {},
     "output_type": "execute_result"
    }
   ],
   "source": [
    "import numpy as np\n",
    "from scipy.optimize import minimize\n",
    "\n",
    "\n",
    "def func(x):\n",
    "    s = 0\n",
    "    j = 3\n",
    "    a = [1.25, 8.75, 0.5, 5.75, 3, 7.25]\n",
    "    b = [1.25, 0.75, 4.75, 5, 6.5, 7.25]\n",
    "    for i in range(6):\n",
    "        s += x[j + 1] * np.sqrt((x[0] - a[i]) ** 2 + (x[1] - b[i]) ** 2) + x[\n",
    "            j + 2\n",
    "        ] * np.sqrt((x[2] - a[i]) ** 2 + (x[3] - b[i]) ** 2)\n",
    "        j += 2\n",
    "\n",
    "    return s\n",
    "\n",
    "\n",
    "constraints = (\n",
    "    {\"type\": \"eq\", \"fun\": lambda x: x[4] + x[10] - 3},\n",
    "    {\"type\": \"eq\", \"fun\": lambda x: x[5] + x[11] - 5},\n",
    "    {\"type\": \"eq\", \"fun\": lambda x: x[6] + x[12] - 4},\n",
    "    {\"type\": \"eq\", \"fun\": lambda x: x[7] + x[13] - 7},\n",
    "    {\"type\": \"eq\", \"fun\": lambda x: x[8] + x[14] - 6},\n",
    "    {\"type\": \"eq\", \"fun\": lambda x: x[9] + x[15] - 11},\n",
    "    {\"type\": \"ineq\", \"fun\": lambda x: x[4] + x[5] + x[6] + x[7] + x[8] + x[9] - 20},\n",
    "    {\n",
    "        \"type\": \"ineq\",\n",
    "        \"fun\": lambda x: x[10] + x[11] + x[12] + x[13] + x[14] + x[15] - 20,\n",
    "    },\n",
    ")\n",
    "\n",
    "bounds = 16 * ((0, None),)\n",
    "x0 = np.ones(16)\n",
    "res = minimize(func, x0, method=\"SLSQP\", constraints=constraints, bounds=bounds)\n",
    "res.x"
   ]
  },
  {
   "cell_type": "code",
   "execution_count": 60,
   "metadata": {},
   "outputs": [
    {
     "data": {
      "text/plain": [
       "        message: Optimization terminated successfully. (HiGHS Status 7: Optimal)\n",
       "        success: True\n",
       "         status: 0\n",
       "            fun: -5.250375\n",
       "              x: [ 3.750e+00  7.500e+00 ...  4.500e+00  0.000e+00]\n",
       "            nit: 4\n",
       "          lower:  residual: [ 3.750e+00  7.500e+00 ...  4.500e+00\n",
       "                              0.000e+00]\n",
       "                 marginals: [ 0.000e+00  0.000e+00 ...  0.000e+00\n",
       "                              0.000e+00]\n",
       "          upper:  residual: [ 6.250e+00  2.500e+00 ...  5.500e+00\n",
       "                              1.000e+01]\n",
       "                 marginals: [ 0.000e+00  0.000e+00 ...  0.000e+00\n",
       "                              0.000e+00]\n",
       "          eqlin:  residual: [ 0.000e+00  0.000e+00  0.000e+00  0.000e+00\n",
       "                              0.000e+00  0.000e+00]\n",
       "                 marginals: [-3.750e-05 -1.250e-01  1.250e-01  7.500e-01\n",
       "                              1.000e+00  1.000e+00]\n",
       "        ineqlin:  residual: []\n",
       "                 marginals: []\n",
       " mip_node_count: 0\n",
       " mip_dual_bound: 0.0\n",
       "        mip_gap: 0.0"
      ]
     },
     "execution_count": 60,
     "metadata": {},
     "output_type": "execute_result"
    }
   ],
   "source": [
    "c = np.array([0, 0, 0, 0, 1, 0, 1, 0, 1, 0, 1, -1, 1, -1, 1])\n",
    "A_eq = np.array(\n",
    "    [\n",
    "        [20000, 10000, 20000, -1, 1, 0, 0, 0, 0, 0, 0, 0, 0, 0, 0],\n",
    "        [1, 0, 0, 0, 0, -1, 1, 0, 0, 0, 0, 0, 0, 0, 0],\n",
    "        [-1, 1, 0, 0, 0, -1, 1, 0, 0, 0, 0, 0, 0, 0, 0],\n",
    "        [0, -1, 1, 0, 0, 0, 0, 0, 0, -1, 1, 0, 0, 0, 0],\n",
    "        [1, 0, 0, 0, 0, 0, 0, 0, 0, 0, 0, -1, 1, 0, 0],\n",
    "        [0, 1, 0, 0, 0, 0, 0, 0, 0, 0, 0, 0, 0, -1, 1],\n",
    "    ]\n",
    ")\n",
    "b_eq = np.array([[300000, 3, 3, 0, 3, 3]])\n",
    "bounds = np.array(15 * [(0, 10)])\n",
    "res = linprog(c, None, None, A_eq, b_eq, bounds)\n",
    "res"
   ]
  },
  {
   "cell_type": "code",
   "execution_count": 14,
   "metadata": {},
   "outputs": [
    {
     "name": "stdout",
     "output_type": "stream",
     "text": [
      "['CLARABEL', 'COPT', 'ECOS', 'ECOS_BB', 'OSQP', 'SCIP', 'SCIPY', 'SCS']\n"
     ]
    }
   ],
   "source": [
    "print(cp.installed_solvers())"
   ]
  },
  {
   "cell_type": "code",
   "execution_count": 65,
   "metadata": {},
   "outputs": [
    {
     "name": "stdout",
     "output_type": "stream",
     "text": [
      "[0 1 2 3]\n",
      "[0 2 1 3]\n",
      "[25 26 27 23]\n",
      "101\n"
     ]
    }
   ],
   "source": [
    "T = np.array([[25, 29, 31, 42], [39, 38, 26, 20], [34, 27, 28, 40], [24, 42, 36, 23]])\n",
    "row_ind, col_ind = linear_sum_assignment(T)\n",
    "print(row_ind)  # 行位置\n",
    "print(col_ind)  # 列位置\n",
    "print(T[row_ind, col_ind])\n",
    "print(T[row_ind, col_ind].sum())"
   ]
  },
  {
   "cell_type": "markdown",
   "metadata": {},
   "source": [
    "$$\n",
    "\\min z = 40 x_1 + 90 x_2 \\\\\n",
    "s.t.\n",
    "\\begin{cases}\n",
    "9 x_1 + 7 x_2 \\le 56 \\\\\n",
    "7 x_1 + 20 x_2 \\ge 70 \\\\\n",
    "x_1,\\ x_2 \\ge 0 为整数\n",
    "\\end{cases}"
   ]
  },
  {
   "cell_type": "code",
   "execution_count": 71,
   "metadata": {},
   "outputs": [
    {
     "name": "stdout",
     "output_type": "stream",
     "text": [
      "优化结果：349.999999698103\n",
      "参数取值：[2. 3.]\n"
     ]
    }
   ],
   "source": [
    "c = np.array([40, 90])\n",
    "A = np.array([[9, 7], [-7, -20]])\n",
    "b = np.array([56, -70])\n",
    "x = cp.Variable(2, integer=True)\n",
    "obj = cp.Minimize(x @ c)\n",
    "cons = [A @ x <= b, x >= 0]  \n",
    "prob = cp.Problem(obj, cons)\n",
    "prob.solve(solver=cp.ECOS_BB)\n",
    "print(f\"优化结果：{prob.value}\")\n",
    "print(f\"参数取值：{x.value}\")"
   ]
  },
  {
   "cell_type": "markdown",
   "metadata": {},
   "source": [
    "<img src=\"https://leafalice-image.oss-cn-hangzhou.aliyuncs.com/img/2024-04-04%2F61a0b7cf7733d449808067dabd3718cb--00c9--image-20240404135319945.png\" alt=\"image-20240404135319945\" style=\"zoom: 67%;\" />"
   ]
  },
  {
   "cell_type": "markdown",
   "metadata": {},
   "source": [
    "$$\n",
    "\\max z_1 = \\sum_{j = 1}^7 l_j (x_{1j} + x_{2j}) \\\\ \n",
    "s.t. \n",
    "\\begin{cases}\n",
    "\\sum_{i = 1}^2 x_{ij} \\le a_j, \\quad j = 1,\\ 2,\\ \\dots,\\ 7 \\\\ \n",
    "\\sum_{j = 1}^7 l_j x_{ij} \\le 1020, \\quad i = 1,\\ 2 \\\\\n",
    "\\sum_{j = 1}^7 w_j x_{ij} \\le 40000, \\quad i = 1,\\ 2 \\\\\n",
    "\\sum_{j = 5}^7 l_j (x_{1j} + x_{2j}) \\le 302.7 \\\\\n",
    "x_{ij} \\ge 0 且为整数, \\quad i = 1,\\ 2 \\quad j = 1,\\ 2,\\ \\dots,\\ 7\n",
    "\\end{cases}"
   ]
  },
  {
   "cell_type": "code",
   "execution_count": 111,
   "metadata": {},
   "outputs": [
    {
     "name": "stdout",
     "output_type": "stream",
     "text": [
      "Optimal objective value: 2039.9\n",
      "Optimal solution:\n",
      "[[ 11.   0.  17. -12.   3.  -8.   9.]\n",
      " [ -3.   7.  -8.  18.  -5.  12.  -6.]]\n"
     ]
    }
   ],
   "source": [
    "import cvxpy as cp\n",
    "import numpy as np\n",
    "\n",
    "\n",
    "l = np.array([48.7, 52.0, 61.3, 72.0, 48.7, 52.0, 64.0])\n",
    "w = np.array([2000, 3000, 1000, 500, 4000, 2000, 1000])\n",
    "a = np.array([8, 7, 9, 6, 6, 4, 8])\n",
    "\n",
    "\n",
    "x = cp.Variable((2, 7), integer=True)\n",
    "\n",
    "\n",
    "z1 = cp.sum(cp.multiply(l, (x[0, :] + x[1, :])))\n",
    "objective = cp.Maximize(z1)\n",
    "\n",
    "\n",
    "constraints = [cp.sum(x[:, j]) <= a[j] for j in range(7)]\n",
    "constraints += [l @ x[i, :] <= 1020 for i in range(2)]\n",
    "constraints += [w @ x[i, :] <= 40000 for i in range(2)]\n",
    "constraints += [l[4:] @ (x[0, 4:] + x[1, 4:]) <= 302.7]\n",
    "\n",
    "\n",
    "problem = cp.Problem(objective, constraints)\n",
    "problem.solve(solver=\"COPT\")\n",
    "\n",
    "\n",
    "print(\"Optimal objective value:\", problem.value)\n",
    "print(\"Optimal solution:\")\n",
    "print(x.value)"
   ]
  },
  {
   "cell_type": "code",
   "execution_count": 70,
   "metadata": {},
   "outputs": [
    {
     "name": "stdout",
     "output_type": "stream",
     "text": [
      "优化结果：2039.8999999999985\n",
      "x1 取值：[  0.   0.  43. -27.   0.  -6.  10.]\n",
      "x2 取值：[  -1.  101. -402.  285.   -1.    1.   -1.]\n"
     ]
    }
   ],
   "source": [
    "l = np.array([48.7, 52.0, 61.3, 72.0, 48.7, 52.0, 64.0])\n",
    "w = np.array([2000, 3000, 1000, 500, 4000, 2000, 1000])\n",
    "a = np.array([8, 7, 9, 6, 6, 4, 8])\n",
    "\n",
    "x1 = cp.Variable(shape=7, integer=True)\n",
    "x2 = cp.Variable(shape=7, integer=True)\n",
    "\n",
    "obj = cp.Maximize((x1 + x2) @ l)\n",
    "con = [\n",
    "    cp.sum(x1 + x2, axis=0) <= a,\n",
    "    l @ x1 <= 1020,\n",
    "    l @ x2 <= 1020,\n",
    "    w @ x1 <= 40000,\n",
    "    w @ x2 <= 40000,\n",
    "    l[4:7] @ (x1[4:7] + x2[4:7]) <= 302.7,\n",
    "]\n",
    "prob = cp.Problem(obj, con)\n",
    "\n",
    "prob.solve(solver=\"COPT\")\n",
    "\n",
    "print(f\"优化结果：{prob.value}\")\n",
    "print(f\"x1 取值：{x1.value}\")\n",
    "print(f\"x2 取值：{x2.value}\")"
   ]
  },
  {
   "cell_type": "markdown",
   "metadata": {},
   "source": [
    "$$\n",
    "\\min z = \\sum_{i = 1}^5 \\sum_{j = 1}^5 c_{ij} x_{ij}, \\\\\n",
    "s.t. \n",
    "\\begin{cases}\n",
    "\\sum_{j = 1}^5 x_{ij} = 1,\\quad i = 1,\\ 2,\\ \\dots,\\ 5 \\\\\n",
    "\\sum_{i = 1}^5 x_{ij} = 1,\\quad j = 1,\\ 2,\\ \\dots,\\ 5 \\\\\n",
    "x_{ij} = 0,\\ 1 \\quad i,\\ j = 1,\\ 2,\\ \\dots,\\ 5\n",
    "\\end{cases}"
   ]
  },
  {
   "cell_type": "code",
   "execution_count": 73,
   "metadata": {},
   "outputs": [
    {
     "name": "stdout",
     "output_type": "stream",
     "text": [
      "最优结果：34.0\n",
      "参数取值：\n",
      "[[ 0. -0.  1. -0. -0.]\n",
      " [ 0.  1. -0. -0. -0.]\n",
      " [ 1. -0. -0. -0.  0.]\n",
      " [-0.  0. -0.  1. -0.]\n",
      " [-0. -0. -0. -0.  1.]]\n"
     ]
    }
   ],
   "source": [
    "c = np.array(\n",
    "    [\n",
    "        [4, 8, 7, 15, 12],\n",
    "        [7, 9, 17, 14, 10],\n",
    "        [6, 9, 12, 8, 7],\n",
    "        [6, 7, 14, 6, 10],\n",
    "        [6, 9, 12, 10, 6],\n",
    "    ]\n",
    ")\n",
    "x = cp.Variable((5, 5), integer=True)\n",
    "obj = cp.Minimize(cp.sum(cp.multiply(c, x)))\n",
    "con = [\n",
    "    0 <= x,\n",
    "    x <= 1,\n",
    "    cp.sum(x, axis=0) == 1,\n",
    "    cp.sum(x, axis=1) == 1,\n",
    "]\n",
    "prob = cp.Problem(obj, con)\n",
    "prob.solve(solver=\"COPT\")\n",
    "print(f\"最优结果：{prob.value}\")\n",
    "print(f\"参数取值：\\n{x.value}\")"
   ]
  },
  {
   "cell_type": "code",
   "execution_count": 75,
   "metadata": {},
   "outputs": [
    {
     "name": "stdout",
     "output_type": "stream",
     "text": [
      "最优结果：24400.0\n",
      "参数取值：[ 0. 50.  0.  0.  0. 50.  0. 10. 40.  0. 10.]\n"
     ]
    }
   ],
   "source": [
    "c = np.array([160, 130, 220, 170, 140, 130, 190, 150, 190, 200, 230])\n",
    "\n",
    "left = np.array(\n",
    "    [\n",
    "        [1, 0, 0, 0, 1, 0, 0, 0, 1, 0, 0],\n",
    "        [0, 1, 0, 0, 0, 1, 0, 0, 0, 1, 0],\n",
    "        [0, 0, 1, 0, 0, 0, 1, 0, 0, 0, 1],\n",
    "        [0, 0, 0, 1, 0, 0, 0, 1, 0, 0, 0],\n",
    "    ]\n",
    ")\n",
    "\n",
    "right_min = np.array([30, 70, 10, 10])\n",
    "right_max = np.array([80, 140, 30, 50])\n",
    "x = cp.Variable(11)\n",
    "obj = cp.Minimize(c @ x)\n",
    "con = [\n",
    "    x >= 0,\n",
    "    left @ x <= right_max,\n",
    "    left @ x >= right_min,\n",
    "    cp.sum(x[0:4]) == 50,\n",
    "    cp.sum(x[4:8]) == 60,\n",
    "    cp.sum(x[8:11]) == 50,\n",
    "]\n",
    "prob = cp.Problem(obj, con)\n",
    "prob.solve(solver=\"COPT\")\n",
    "print(f\"最优结果：{prob.value}\")\n",
    "print(f\"参数取值：{x.value}\")"
   ]
  },
  {
   "cell_type": "markdown",
   "metadata": {},
   "source": [
    "$$\n",
    "c(x) = \n",
    "\\begin{cases}\n",
    "10x \\quad (0 \\le x \\le 500) \\\\\n",
    "1000 + 8x \\quad (500 \\le x \\le 1000) \\\\\n",
    "3000 + 6x \\quad (1000 \\le x \\le 1500)\n",
    "\\end{cases} \\\\\n",
    "\\max z = 4.8 x_{11} + 5.6 x_{12} + 4.8 x_{21} + 5.6 x_{22} - c(x) \\\\\n",
    "s.t.\n",
    "\\begin{cases}\n",
    "x_{11} + x_{12} \\le 500 + x \\\\\n",
    "x_{21} + x_{22} \\le 1000 \\\\\n",
    "x \\le 1500 \\\\\n",
    "-x_{11} + x_{21} \\le 0 \\\\\n",
    "-2 x_{12} + 3 x_{22} \\le 0 \\\\\n",
    "x_{11},\\ x_{12},\\ x_{21},\\ x_{22}, \\quad x \\ge 0 \\\\\n",
    "z_1 \\le y_1, \\quad z_2 \\le y_1 + y_2, \\quad z_3 \\le y_2 + y_3, \\quad z_4 \\le y_3 \\\\\n",
    "z_1 + z_2 + z_3 + z_4 = 1, \\quad z_1,\\ z_2,\\ z_3,\\ z_4 \\ge 0 \\\\\n",
    "y_1 + y_2 + y_3 = 1, \\quad y_1,\\ y_2,\\ y_3 = 0,\\ 1 \\\\\n",
    "c(x) = 5000 z_2 + 9000 z_3 + 12000 z_4 \n",
    "\\end{cases}"
   ]
  },
  {
   "cell_type": "code",
   "execution_count": 77,
   "metadata": {},
   "outputs": [
    {
     "name": "stdout",
     "output_type": "stream",
     "text": [
      "最优结果：5000.0\n",
      "参数取值：[  -0. 1500.    0. 1000.]\n"
     ]
    }
   ],
   "source": []
  }
 ],
 "metadata": {
  "kernelspec": {
   "display_name": "Python 3",
   "language": "python",
   "name": "python3"
  },
  "language_info": {
   "codemirror_mode": {
    "name": "ipython",
    "version": 3
   },
   "file_extension": ".py",
   "mimetype": "text/x-python",
   "name": "python",
   "nbconvert_exporter": "python",
   "pygments_lexer": "ipython3",
   "version": "3.12.1"
  }
 },
 "nbformat": 4,
 "nbformat_minor": 2
}
