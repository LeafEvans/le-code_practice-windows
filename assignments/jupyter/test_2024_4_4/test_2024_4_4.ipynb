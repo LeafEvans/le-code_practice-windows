{
 "cells": [
  {
   "cell_type": "code",
   "execution_count": 1,
   "metadata": {},
   "outputs": [],
   "source": [
    "import numpy as np\n",
    "import cvxpy as cp"
   ]
  },
  {
   "cell_type": "markdown",
   "metadata": {},
   "source": [
    "$$\n",
    "c(x) = \n",
    "\\begin{cases}\n",
    "10x \\quad (0 \\le x \\le 500) \\\\\n",
    "1000 + 8x \\quad (500 \\le x \\le 1000) \\\\\n",
    "3000 + 6x \\quad (1000 \\le x \\le 1500)\n",
    "\\end{cases} \\\\\n",
    "\\max z = 4.8 x_{11} + 5.6 x_{12} + 4.8 x_{21} + 5.6 x_{22} - c(x) \\\\\n",
    "s.t.\n",
    "\\begin{cases}\n",
    "x_{11} + x_{12} \\le 500 + x \\\\\n",
    "x_{21} + x_{22} \\le 1000 \\\\\n",
    "x \\le 1500 \\\\\n",
    "-x_{11} + x_{21} \\le 0 \\\\\n",
    "-2 x_{12} + 3 x_{22} \\le 0 \\\\\n",
    "x_{11},\\ x_{12},\\ x_{21},\\ x_{22}, \\quad x \\ge 0 \\\\\n",
    "z_1 \\le y_1, \\quad z_2 \\le y_1 + y_2, \\quad z_3 \\le y_2 + y_3, \\quad z_4 \\le y_3 \\\\\n",
    "z_1 + z_2 + z_3 + z_4 = 1, \\quad z_1,\\ z_2,\\ z_3,\\ z_4 \\ge 0 \\\\\n",
    "y_1 + y_2 + y_3 = 1, \\quad y_1,\\ y_2,\\ y_3 = 0,\\ 1 \\\\\n",
    "x = 500 z_2 + 1000 z_3 + 1500 z_4 \\\\\n",
    "c(x) = 5000 z_2 + 9000 z_3 + 12000 z_4 \n",
    "\\end{cases}"
   ]
  },
  {
   "cell_type": "code",
   "execution_count": 6,
   "metadata": {},
   "outputs": [
    {
     "name": "stdout",
     "output_type": "stream",
     "text": [
      "优化结果：4800.0\n",
      "参数取值：[500.  -0. 500.   0.]\n"
     ]
    }
   ],
   "source": [
    "c_maxz = np.array([4.8, 5.6, 4.8, 5.6])\n",
    "c_x = np.array([0, 500, 1000, 1500])\n",
    "c_cx = np.array([0, 5000, 9000, 12000])\n",
    "\n",
    "x = cp.Variable(4)\n",
    "y = cp.Variable(3, integer=True)\n",
    "z = cp.Variable(4)\n",
    "\n",
    "obj = cp.Maximize(x @ c_maxz - c_cx @ z)\n",
    "con = [\n",
    "    x[0] + x[1] <= 500 + c_x @ z,\n",
    "    x[2] + x[3] <= 1000,\n",
    "    c_x @ z <= 1500,\n",
    "    -x[0] + x[2] <= 0,\n",
    "    -x[1] + 3 * x[3] <= 0,\n",
    "    x >= 0,\n",
    "    z[0] <= y[0],\n",
    "    z[1] <= y[0] + y[1],\n",
    "    z[2] <= y[1] + y[2],\n",
    "    z[3] <= y[2],\n",
    "    cp.sum(z) == 1,\n",
    "    z >= 0,\n",
    "    cp.sum(y) == 1,\n",
    "    y >= 0,\n",
    "    y <= 1,\n",
    "]\n",
    "\n",
    "prob = cp.Problem(obj, con)\n",
    "prob.solve()\n",
    "print(f\"优化结果：{prob.value}\")\n",
    "print(f\"参数取值：{x.value}\")"
   ]
  },
  {
   "cell_type": "markdown",
   "metadata": {},
   "source": [
    "$$\n",
    "\\max z = \\sum_{j = 1}^7 l_j (x_{1j} + x_{2j}) \\\\ \n",
    "s.t. \n",
    "\\begin{cases}\n",
    "\\sum_{i = 1}^2 x_{ij} \\le a_j, \\quad j = 1,\\ 2,\\ \\dots,\\ 7 \\\\ \n",
    "\\sum_{j = 1}^7 l_j x_{ij} \\le 1020, \\quad i = 1,\\ 2 \\\\\n",
    "\\sum_{j = 1}^7 w_j x_{ij} \\le 40000, \\quad i = 1,\\ 2 \\\\\n",
    "\\sum_{j = 5}^7 l_j (x_{1j} + x_{2j}) \\le 302.7 \\\\\n",
    "x_{ij} \\ge 0 且为整数, \\quad i = 1,\\ 2 \\quad j = 1,\\ 2,\\ \\dots,\\ 7\n",
    "\\end{cases}"
   ]
  },
  {
   "cell_type": "code",
   "execution_count": 15,
   "metadata": {},
   "outputs": [
    {
     "name": "stdout",
     "output_type": "stream",
     "text": [
      "优化结果：2039.3999999999994\n",
      "参数取值：\n",
      "[[-0.  6.  9. -0. -0.  3.  0.]\n",
      " [ 8.  1.  0.  6.  3. -0. -0.]]\n"
     ]
    }
   ],
   "source": [
    "l = np.array([48.7, 52.0, 61.3, 72.0, 48.7, 52.0, 64.0])\n",
    "w = np.array([2000, 3000, 1000, 500, 4000, 2000, 1000])\n",
    "a = np.array([8, 7, 9, 6, 6, 4, 8])\n",
    "\n",
    "x = cp.Variable((2, 7), integer=True)\n",
    "obj = cp.Maximize(l @ (x[0, :] + x[1, :]))\n",
    "\n",
    "con = [cp.sum(x[:, j]) <= a[j] for j in range(7)]\n",
    "con += [l @ x[i, :] <= 1020 for i in range(2)]\n",
    "con += [w @ x[i, :] <= 40000 for i in range(2)]\n",
    "con += [l[4:] @ (x[0, 4:] + x[1, 4:]) <= 302.7]\n",
    "con += [x >= 0]\n",
    "\n",
    "prob = cp.Problem(obj, con)\n",
    "prob.solve(solver=\"COPT\")\n",
    "\n",
    "print(f\"优化结果：{prob.value}\")\n",
    "print(f\"参数取值：\\n{x.value}\")"
   ]
  },
  {
   "cell_type": "markdown",
   "metadata": {},
   "source": [
    "<img src=\"https://leafalice-image.oss-cn-hangzhou.aliyuncs.com/img/2024-04-04%2Fd22a1675957ae58a78ca3ed2afcb5882--b3f2--image-20240404161409169.png\" alt=\"image-20240404161409169\" style=\"zoom:80%;\" />"
   ]
  },
  {
   "cell_type": "code",
   "execution_count": 16,
   "metadata": {},
   "outputs": [
    {
     "name": "stdout",
     "output_type": "stream",
     "text": [
      "优化结果：30.0\n",
      "参数取值：[1. 1. 1. 1. 1. 1. 1. 1. 1.]\n"
     ]
    }
   ],
   "source": [
    "c = np.array([5, 4, 4, 3, 4, 3, 2, 2, 3])\n",
    "x = cp.Variable(9, integer=True)\n",
    "obj = cp.Maximize(c @ x)\n",
    "con = [\n",
    "    cp.sum(x[:5]) >= 2,\n",
    "    cp.sum(x[2:9]) >= 3,\n",
    "    x[3] + x[5] + x[6] + x[8] >= 2,\n",
    "    2 * x[2] - x[0] - x[1] <= 0,\n",
    "    x[3] - x[6] <= 0,\n",
    "    2 * x[4] - x[0] - x[1] <= 0,\n",
    "    x[5] - x[6] <= 0,\n",
    "    x[7] - x[4] <= 0,\n",
    "    2 * x[8] - x[0] - x[1] <= 0,\n",
    "    x >= 0,\n",
    "    x <= 1,\n",
    "]\n",
    "\n",
    "prob = cp.Problem(obj, con)\n",
    "prob.solve()\n",
    "print(f\"优化结果：{prob.value}\")\n",
    "print(f\"参数取值：{x.value}\")"
   ]
  }
 ],
 "metadata": {
  "kernelspec": {
   "display_name": "Python 3",
   "language": "python",
   "name": "python3"
  },
  "language_info": {
   "codemirror_mode": {
    "name": "ipython",
    "version": 3
   },
   "file_extension": ".py",
   "mimetype": "text/x-python",
   "name": "python",
   "nbconvert_exporter": "python",
   "pygments_lexer": "ipython3",
   "version": "3.12.1"
  }
 },
 "nbformat": 4,
 "nbformat_minor": 2
}
