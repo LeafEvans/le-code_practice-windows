{
 "cells": [
  {
   "cell_type": "markdown",
   "metadata": {},
   "source": [
    "# Python 解决线性规划问题案例"
   ]
  },
  {
   "cell_type": "code",
   "execution_count": 2,
   "metadata": {},
   "outputs": [],
   "source": [
    "import numpy as np\n",
    "import matplotlib.pyplot as plt\n",
    "from scipy.integrate import odeint\n",
    "\n",
    "plt.rcParams[\"font.sans-serif\"] = [\"FangSong\"]\n",
    "plt.rcParams[\"axes.unicode_minus\"] = False\n",
    "plt.style.use(\"ggplot\")"
   ]
  },
  {
   "cell_type": "code",
   "execution_count": 4,
   "metadata": {},
   "outputs": [],
   "source": [
    "import numpy as np\n",
    "import pulp as pp \n",
    "from scipy.optimize import linprog, minimize, linear_sum_assignment"
   ]
  },
  {
   "cell_type": "markdown",
   "metadata": {},
   "source": [
    "**案例**：\n",
    "$$\n",
    "\\max z = 8 x_1 - 2 x_2 + 3 x_3 - x_4 - 2 x_5 \\\\ \n",
    "\\begin{cases}\n",
    "x_1 + x_2 + x_3 + x_4 + x_5 \\le 400 \\\\\n",
    "x_1 + 2 x_2 + 2 x_3 + x_4 + 6 x_5 \\le 800 \\\\\n",
    "2 x_1 + x_2 + 6 x_3 \\le 200 \\\\\n",
    "x_3 + x_4 + 5 x_5 \\le 200 \\\\\n",
    "0 \\le x_i \\le 99,\\ i = 1,\\ 2,\\ 3,\\ 4 \\\\\n",
    "x_5 \\ge -10\n",
    "\\end{cases}"
   ]
  },
  {
   "cell_type": "code",
   "execution_count": null,
   "metadata": {},
   "outputs": [],
   "source": [
    "c = [8, -2, 3, -1, -2]\n",
    "A_ub = [[1, 1, 1, 1, 1], [1, 2, 2, 1, 6], [2, 1, 6, 0, 0], [0, 0, 1, 1, 5]]\n",
    "b_ub = [400, 800, 200, 200]\n",
    "# 定义变量\n",
    "x = [pp.LpVariable(f\"x{i}\", lowBound=0, upBound=99) for i in range(1, 5)]\n",
    "x.append(pp.LpVariable(\"x5\", lowBound=-10))\n",
    "# 定义问题\n",
    "prob = pp.LpProblem(\"max_z\", sense=pp.LpMaximize)\n",
    "# 点乘\n",
    "prob += pp.lpDot(c, x)\n",
    "for i in range(len(A_ub)):\n",
    "    prob += pp.lpDot(x, A_ub[i]) <= b_ub[i]\n",
    "prob.solve()\n",
    "\n",
    "print(f\"优化结果：{pp.value(prob.objective)}\")\n",
    "print(f\"参数取值：{[pp.value(var) for var in x]}\")"
   ]
  },
  {
   "cell_type": "code",
   "execution_count": null,
   "metadata": {},
   "outputs": [],
   "source": [
    "c = np.array([-8, 2, 3, 1, 2])\n",
    "A_ub = np.array([[1, 1, 1, 1, 1], [1, 2, 2, 1, 6], [2, 1, 6, 0, 0], [0, 0, 1, 1, 5]])\n",
    "b_ub = np.array([[400], [800], [200], [200]])\n",
    "bounds = np.array([(0, 99), (0, 99), (0, 99), (0, 99), (-10, None)])\n",
    "res = linprog(c=c, A_ub=A_ub, b_ub=b_ub, A_eq=None, b_eq=None, bounds=bounds)\n",
    "print(f\"优化结果：{-res.fun}\")\n",
    "print(f\"参数取值：{list(res.x)}\")"
   ]
  },
  {
   "cell_type": "code",
   "execution_count": null,
   "metadata": {},
   "outputs": [],
   "source": [
    "c = np.array([-3 * 24, -4 * 16])\n",
    "A_ub = np.array([[1, 1], [12, 8], [3, 0]])\n",
    "b_ub = np.array([50, 800, 100])\n",
    "bounds = np.array([(0, None), (0, None)])\n",
    "res = linprog(c=c, A_ub=A_ub, b_ub=b_ub, bounds=bounds)\n",
    "res"
   ]
  },
  {
   "cell_type": "code",
   "execution_count": null,
   "metadata": {},
   "outputs": [],
   "source": [
    "c = [110, 120, 130, 110, 115, -150]\n",
    "A_ub = [\n",
    "    (1, 1, 0, 0, 0, 0),\n",
    "    (0, 0, 1, 1, 1, 0),\n",
    "    (8.8, 6.1, 2.0, 4.2, 5.0, -6),\n",
    "    (-8.8, -6.1, -2.0, -4.2, -5.0, 3),\n",
    "]\n",
    "b_ub = [200, 250, 0, 0]\n",
    "A_eq = [(1, 1, 1, 1, 1, -1)]\n",
    "b_eq = [(0,)]\n",
    "bounds = 6 * [(0, None)]\n",
    "res = linprog(c=c, A_ub=A_ub, b_ub=b_ub, A_eq=A_eq, b_eq=b_eq, bounds=bounds)\n",
    "res"
   ]
  },
  {
   "cell_type": "code",
   "execution_count": null,
   "metadata": {},
   "outputs": [],
   "source": [
    "# 目标函数的系数\n",
    "c = [2, 3, 1]\n",
    "A_ub = [(1, 4, 2), (3, 2, 0)]\n",
    "b_ub = [8, 6]\n",
    "A_eq = [(1, 2, 4)]\n",
    "b_eq = [101]\n",
    "\n",
    "# 确定最大最小化问题，当前确定的是最大化问题\n",
    "m = pp.LpProblem(sense=pp.LpMaximize)\n",
    "\n",
    "# 定义三个变量放在列表中\n",
    "x = [pp.LpVariable(f\"x{i}\", lowBound=0) for i in [1, 2, 3]]\n",
    "\n",
    "# 定义目标函数，并将目标函数加入求解的问题中\n",
    "m += pp.lpDot(c, x)  # lpDot 用于计算点积\n",
    "\n",
    "# 设置比较条件\n",
    "for i in range(len(A_eq)):\n",
    "    m += pp.lpDot(A_eq[i], x) == b_eq[i]\n",
    "\n",
    "# 求解\n",
    "m.solve()\n",
    "# 输出结果\n",
    "print(f\"优化结果：{pp.value(m.objective)}\")\n",
    "print(f\"参数取值：{[pp.value(var) for var in x]}\")"
   ]
  },
  {
   "cell_type": "code",
   "execution_count": null,
   "metadata": {},
   "outputs": [],
   "source": [
    "x1 = pp.LpVariable(\"x1\", 0, None, pp.LpInteger)\n",
    "x2 = pp.LpVariable(\"x2\", 0, None, pp.LpInteger)\n",
    "x3 = pp.LpVariable(\"x3\", 0, None, pp.LpInteger)\n",
    "prob = pp.LpProblem(\"max_z\", sense=pp.LpMaximize)\n",
    "prob += 2 * x1 + 3 * x2 - 5 * x3\n",
    "prob += x1 + x2 + x3 == 7\n",
    "prob += x1 + 3 * x2 + x3 <= 12\n",
    "prob += 2 * x1 - 5 * x2 + x3 >= 10\n",
    "\n",
    "status = prob.solve()\n",
    "print(f\"优化结果：{pp.value(prob.objective)}\")\n",
    "print(f\"参数取值：{[pp.value(var) for var in (x1, x2, x3)]}\")"
   ]
  },
  {
   "cell_type": "code",
   "execution_count": null,
   "metadata": {},
   "outputs": [],
   "source": [
    "x = [pp.LpVariable(f\"x{i}\", lowBound=0) for i in range(1, 7)]\n",
    "prob = pp.LpProblem(\"max_z\", sense=pp.LpMaximize)\n",
    "c = np.array([-110, -120, -130, -110, -115, 150])\n",
    "A_ub = np.array(\n",
    "    [\n",
    "        [1, 1, 0, 0, 0, 0],\n",
    "        [0, 0, 1, 1, 1, 0],\n",
    "        [8.8, 6.1, 2.0, 4.2, 5.0, -6.0],\n",
    "        [-8.8, -6.1, -2.0, -4.2, -5.0, 3.0],\n",
    "    ]\n",
    ")\n",
    "b_ub = np.array([200, 250, 0, 0])\n",
    "A_eq = np.array([1, 1, 1, 1, 1, -1])\n",
    "prob += pp.lpDot(c, x)\n",
    "for i in range(4):\n",
    "    prob += pp.lpDot(x, A_ub[i]) <= b_ub[i]\n",
    "prob += pp.lpDot(A_eq, x) == 0\n",
    "\n",
    "prob.solve()\n",
    "print(f\"优化参数：{pp.value(prob.objective)}\")\n",
    "print(f\"参数取值：{[pp.value(var) for var in x]}\")"
   ]
  },
  {
   "cell_type": "code",
   "execution_count": null,
   "metadata": {},
   "outputs": [],
   "source": [
    "c = [110, 120, 130, 110, 115, -150]\n",
    "A_ub = [\n",
    "    (1, 1, 0, 0, 0, 0),\n",
    "    (0, 0, 1, 1, 1, 0),\n",
    "    (8.8, 6.1, 2.0, 4.2, 5.0, -6),\n",
    "    (-8.8, -6.1, -2.0, -4.2, -5.0, 3),\n",
    "]\n",
    "b_ub = [200, 250, 0, 0]\n",
    "A_eq = [(1, 1, 1, 1, 1, -1)]\n",
    "b_eq = [(0,)]\n",
    "bounds = 6 * [(0, None)]\n",
    "res = linprog(c=c, A_ub=A_ub, b_ub=b_ub, A_eq=A_eq, b_eq=b_eq, bounds=bounds)\n",
    "print(f\"优化结果：{-res.fun}\")\n",
    "print(f\"参数取值：{list(res.x)}\")"
   ]
  },
  {
   "cell_type": "markdown",
   "metadata": {},
   "source": [
    "$$ \n",
    "\\max f = x_1 x_2 x_3 \\\\ \n",
    "s.t. \n",
    "\\begin{cases}\n",
    "-x_1 + 2 x_2 + 2 x_3 \\ge 0 \\\\\n",
    "x_1 + 2 x_2 + 2 x_3 \\le 72 \\\\\n",
    "10 \\le x_2 \\le 20 \\\\\n",
    "x_1 - x_2 = 10\n",
    "\\end{cases}"
   ]
  },
  {
   "cell_type": "code",
   "execution_count": 7,
   "metadata": {},
   "outputs": [
    {
     "name": "stdout",
     "output_type": "stream",
     "text": [
      "优化结果：1011.988331807773\n",
      "参数取值：[22.59596731329431, 12.59596731329431, 12.106037980196525]\n"
     ]
    }
   ],
   "source": [
    "N = 10000000\n",
    "x2 = np.random.uniform(10, 20.1, N)\n",
    "x1 = x2 + 10\n",
    "x3 = np.random.uniform(-5, 16, N)\n",
    "f = float(\"-inf\")\n",
    "for i in range(N):\n",
    "    if -x1[i] + 2 * x2[i] + 2 * x3[i] >= 0 and x1[i] + 2 * x2[i] + 2 * x3[i] <= 72:\n",
    "        result = x1[i] * x2[i] * x3[i]\n",
    "        if result > f:\n",
    "            f = result\n",
    "            final_X = [x1[i], x2[i], x3[i]]\n",
    "\n",
    "print(f\"优化结果：{result}\")\n",
    "print(f\"参数取值：{final_X}\")"
   ]
  },
  {
   "cell_type": "code",
   "execution_count": 7,
   "metadata": {},
   "outputs": [],
   "source": [
    "from scipy.optimize import brent, fmin, minimize"
   ]
  },
  {
   "cell_type": "code",
   "execution_count": 10,
   "metadata": {},
   "outputs": [
    {
     "name": "stdout",
     "output_type": "stream",
     "text": [
      "x_ini = -5.0000\tf(x_ini) =  29.3522\n",
      "x_opt = -0.7391\tf(x_opt) = -7.4195\n"
     ]
    }
   ],
   "source": [
    "# 1. Demo1: 单变量无约束优化问题\n",
    "def func(x):  # 目标函数\n",
    "    f = x**2 - 8 * np.sin(2 * x + np.pi)\n",
    "    return f\n",
    "\n",
    "\n",
    "x_ini = -5.0\n",
    "x_opt = brent(func, brack=(x_ini, 2))\n",
    "print(f\"x_ini = {x_ini: .4f}\\tf(x_ini) = {func(x_ini): .4f}\")\n",
    "print(f\"x_opt = {x_opt: .4f}\\tf(x_opt) = {func(x_opt): .4f}\")"
   ]
  },
  {
   "cell_type": "code",
   "execution_count": 14,
   "metadata": {},
   "outputs": [
    {
     "name": "stdout",
     "output_type": "stream",
     "text": [
      "Optimization terminated successfully.\n",
      "         Current function value: 0.000000\n",
      "         Iterations: 88\n",
      "         Function evaluations: 164\n",
      "x_ini = [-2  2]\tf(x_ini) =  3601.0000\n",
      "x_opt = [1.00000048 1.00000196]\tf(x_opt) =  0.0000\n"
     ]
    }
   ],
   "source": [
    "# 2. Demo2: 多变量无约束优化问题\n",
    "def func(x):\n",
    "    f = 100.0 * (x[0] - x[1] ** 2.0) ** 2.0 + (1.0 - x[1]) ** 2.0\n",
    "    return f\n",
    "\n",
    "\n",
    "x_ini = np.array([-2, 2])\n",
    "x_opt = fmin(func, x_ini)\n",
    "print(f\"x_ini = {x_ini}\\tf(x_ini) = {func(x_ini): .4f}\")\n",
    "print(f\"x_opt = {x_opt}\\tf(x_opt) = {func(x_opt): .4f}\")"
   ]
  },
  {
   "cell_type": "code",
   "execution_count": 6,
   "metadata": {},
   "outputs": [
    {
     "data": {
      "image/png": "[encoded data removed]",
      "text/plain": [
       "<Figure size 640x480 with 1 Axes>"
      ]
     },
     "metadata": {},
     "output_type": "display_data"
    }
   ],
   "source": [
    "def func(x):\n",
    "    f = 100.0 * (x[0] - x[1] ** 2.0) ** 2.0 + (1.0 - x[1]) ** 2.0\n",
    "    return f\n",
    "\n",
    "\n",
    "x1 = np.arange(-5, 5, 0.25)\n",
    "y1 = np.arange(-5, 5, 0.25)\n",
    "x1, y1 = np.meshgrid(x1, y1)\n",
    "z1 = np.zeros(x1.shape)\n",
    "for i in range(x1.shape[0]):\n",
    "    for j in range(x1.shape[1]):\n",
    "        z1[i, j] = func([x1[i, j], y1[i, j]])\n",
    "fig = plt.figure()\n",
    "ax = fig.add_subplot(111, projection=\"3d\")\n",
    "ax.plot_surface(x1, y1, z1, cmap=plt.cm.coolwarm, linewidth=0, antialiased=False)\n",
    "ax.set_zlim(0, 80000)\n",
    "plt.show()"
   ]
  },
  {
   "cell_type": "markdown",
   "metadata": {},
   "source": [
    "$$\n",
    "\\min z = 60 - 10 x_1 - 4 x_2 + x_1 ^2 + x_2 ^2 - x_1 x_2 \\\\\n",
    "s.t. \\quad\n",
    "x_1 + x_2 = 8"
   ]
  },
  {
   "cell_type": "code",
   "execution_count": 10,
   "metadata": {},
   "outputs": [
    {
     "name": "stdout",
     "output_type": "stream",
     "text": [
      " message: Optimization terminated successfully\n",
      " success: True\n",
      "  status: 0\n",
      "     fun: 17.000000000000007\n",
      "       x: [ 5.000e+00  3.000e+00]\n",
      "     nit: 4\n",
      "     jac: [-3.000e+00 -3.000e+00]\n",
      "    nfev: 12\n",
      "    njev: 4\n"
     ]
    }
   ],
   "source": [
    "# 3. Demo3: 多变量边界约束优化问题\n",
    "\n",
    "\n",
    "# 目标函数\n",
    "def fun(args):\n",
    "    f = lambda x: 60 - 10 * x[0] - 4 * x[1] + x[0] ** 2 + x[1] ** 2 - x[0] * x[1]\n",
    "    return f\n",
    "\n",
    "\n",
    "# 约束条件，包括等式约束和不等式约束\n",
    "def con(args):\n",
    "    cons = {\"type\": \"eq\", \"fun\": lambda x: x[0] + x[1] - 8}\n",
    "    return cons\n",
    "\n",
    "\n",
    "args1 = ()\n",
    "args2 = ()\n",
    "# 设置初始值，初始值的设置很重要，很容易收敛到另外的极值点中，可多次尝试\n",
    "cons = con(args2)\n",
    "x0 = np.array((2.0, 1.0))\n",
    "\n",
    "res = minimize(fun(args1), x0, method=\"SLSQP\", constraints=cons)\n",
    "print(res)"
   ]
  },
  {
   "cell_type": "code",
   "execution_count": 12,
   "metadata": {},
   "outputs": [
    {
     "data": {
      "text/plain": [
       " message: Optimization terminated successfully\n",
       " success: True\n",
       "  status: 0\n",
       "     fun: 13.878994794550533\n",
       "       x: [ 6.743e-01  1.151e+00  9.614e-01]\n",
       "     nit: 7\n",
       "     jac: [ 1.349e+00  4.606e+00  5.768e+00]\n",
       "    nfev: 28\n",
       "    njev: 7"
      ]
     },
     "execution_count": 12,
     "metadata": {},
     "output_type": "execute_result"
    }
   ],
   "source": [
    "def func(x):\n",
    "    func = x[0] ** 2 + 2 * x[1] ** 2 + 3 * x[2] ** 2 + 8\n",
    "    return func\n",
    "\n",
    "\n",
    "def con1(x):\n",
    "    return x[0] ** 2 - x[1] + x[2] ** 2\n",
    "\n",
    "\n",
    "def con2(x):\n",
    "    return -(x[0] + x[1] ** 2 + x[2] ** 3 - 20)\n",
    "\n",
    "\n",
    "def con3(x):\n",
    "    return -x[0] - x[1] ** 2 + 2\n",
    "\n",
    "\n",
    "def con4(x):\n",
    "    return x[1] + 2 * x[2] ** 2 - 3\n",
    "\n",
    "\n",
    "bounds = np.array(3 * [(0.0, None)])\n",
    "constraints = np.array(\n",
    "    [\n",
    "        {\"type\": \"ineq\", \"fun\": con1},\n",
    "        {\"type\": \"ineq\", \"fun\": con2},\n",
    "        {\"type\": \"eq\", \"fun\": con3},\n",
    "        {\"type\": \"eq\", \"fun\": con4},\n",
    "    ]\n",
    ")\n",
    "\n",
    "x0 = np.array([1.0, 2.0, 3.0])\n",
    "res = minimize(func, x0, method=\"SLSQP\", bounds=bounds, constraints=constraints)\n",
    "res"
   ]
  },
  {
   "cell_type": "code",
   "execution_count": 13,
   "metadata": {},
   "outputs": [
    {
     "name": "stdout",
     "output_type": "stream",
     "text": [
      "优化结果：[13.98543058]\n",
      "参数取值：[0.36468945 1.27879262 0.92768727]\n"
     ]
    }
   ],
   "source": [
    "from sko.GA import GA\n",
    "\n",
    "\n",
    "def func(x):\n",
    "    return x[0] ** 2 + 2 * x[1] ** 2 + 3 * x[2] ** 2 + 8\n",
    "\n",
    "\n",
    "def constraint_eq():\n",
    "    return [\n",
    "        lambda x: -x[0] - x[1] ** 2 + 2,\n",
    "        lambda x: x[1] + 2 * x[2] ** 2 - 3,\n",
    "    ]\n",
    "\n",
    "\n",
    "def constraint_ueq():\n",
    "    return [\n",
    "        lambda x: x[0] ** 2 - x[1] + x[2] ** 2,\n",
    "        lambda x: -(x[0] + x[1] ** 2 + x[2] ** 3 - 20),\n",
    "    ]\n",
    "\n",
    "\n",
    "constraint_eq = constraint_eq()\n",
    "constraint_ueq = constraint_ueq()\n",
    "\n",
    "ga = GA(\n",
    "    func=func,\n",
    "    n_dim=3,\n",
    "    size_pop=300,\n",
    "    max_iter=800,\n",
    "    constraint_eq=constraint_eq,\n",
    "    constraint_ueq=constraint_ueq,\n",
    "    lb=[0.0, 0.0, 0.0],\n",
    "    ub=[1000.0, 1000.0, 1000.0],\n",
    ")\n",
    "\n",
    "best_x, best_y = ga.run()\n",
    "\n",
    "print(f\"优化结果：{best_y}\")\n",
    "print(f\"参数取值：{best_x}\")"
   ]
  },
  {
   "cell_type": "code",
   "execution_count": 6,
   "metadata": {},
   "outputs": [
    {
     "data": {
      "text/plain": [
       " message: Optimization terminated successfully\n",
       " success: True\n",
       "  status: 0\n",
       "     fun: 13.878994794550533\n",
       "       x: [ 6.743e-01  1.151e+00  9.614e-01]\n",
       "     nit: 7\n",
       "     jac: [ 1.349e+00  4.606e+00  5.768e+00]\n",
       "    nfev: 28\n",
       "    njev: 7"
      ]
     },
     "execution_count": 6,
     "metadata": {},
     "output_type": "execute_result"
    }
   ],
   "source": [
    "def fun(x):\n",
    "    fun = x[0] ** 2 + 2 * x[1] ** 2 + 3 * x[2] ** 2 + 8\n",
    "    return fun\n",
    "\n",
    "\n",
    "def constraints():\n",
    "    return np.array(\n",
    "        [\n",
    "            {\"type\": \"ineq\", \"fun\": lambda x: x[0] ** 2 - x[1] + x[2] ** 2},\n",
    "            {\"type\": \"ineq\", \"fun\": lambda x: -(x[0] + x[1] ** 2 + x[2] ** 3 - 20)},\n",
    "            {\"type\": \"eq\", \"fun\": lambda x: -x[0] - x[1] ** 2 + 2},\n",
    "            {\"type\": \"eq\", \"fun\": lambda x: x[1] + 2 * x[2] ** 2 - 3},\n",
    "        ]\n",
    "    )\n",
    "\n",
    "\n",
    "bounds = np.array(3 * [(0.0, None)])\n",
    "constraints = constraints()\n",
    "x0 = np.array([1.0, 2.0, 3.0])\n",
    "res = minimize(fun, x0, method=\"SLSQP\", bounds=bounds, constraints=constraints)\n",
    "res"
   ]
  },
  {
   "cell_type": "code",
   "execution_count": 7,
   "metadata": {},
   "outputs": [
    {
     "data": {
      "text/plain": [
       " message: Optimization terminated successfully\n",
       " success: True\n",
       "  status: 0\n",
       "     fun: 305.96739130439465\n",
       "       x: [ 1.761e+02  2.500e+02  2.739e+02]\n",
       "     nit: 8\n",
       "     jac: [ 5.465e-01  5.200e-01  5.465e-01]\n",
       "    nfev: 32\n",
       "    njev: 8"
      ]
     },
     "execution_count": 7,
     "metadata": {},
     "output_type": "execute_result"
    }
   ],
   "source": [
    "def fun(x):\n",
    "    return (\n",
    "        4\n",
    "        + 0.3 * x[0]\n",
    "        + 0.0007 * x[0] ** 2\n",
    "        + 3\n",
    "        + 0.32 * x[1]\n",
    "        + 0.0004 * x[1] ** 2\n",
    "        + 3.5\n",
    "        + 0.3 * x[2]\n",
    "        + 0.00045 * x[2] ** 2\n",
    "    )\n",
    "\n",
    "\n",
    "def constraints():\n",
    "    return ({\"type\": \"eq\", \"fun\": lambda x: x[0] + x[1] + x[2] - 700},)\n",
    "\n",
    "\n",
    "bounds = [(100, 200), (120, 250), (150, 300)]\n",
    "\n",
    "constraints = constraints()\n",
    "x0 = np.array((150, 250, 20))\n",
    "res = minimize(fun, x0, method=\"SLSQP\", constraints=constraints, bounds=bounds)\n",
    "res"
   ]
  },
  {
   "cell_type": "markdown",
   "metadata": {},
   "source": [
    "# 遗传算法"
   ]
  },
  {
   "cell_type": "code",
   "execution_count": 7,
   "metadata": {},
   "outputs": [
    {
     "name": "stdout",
     "output_type": "stream",
     "text": [
      "best_x:  [185.19039693 237.83637078 276.97323231] \n",
      " best_y:  [306.41139845]\n"
     ]
    }
   ],
   "source": [
    "from sko.GA import GA\n",
    "\n",
    "\n",
    "def func(x):\n",
    "    return (\n",
    "        4\n",
    "        + 0.3 * x[0]\n",
    "        + 0.0007 * x[0] ** 2\n",
    "        + 3\n",
    "        + 0.32 * x[1]\n",
    "        + 0.0004 * x[1] ** 2\n",
    "        + 3.5\n",
    "        + 0.3 * x[2]\n",
    "        + 0.00045 * x[2] ** 2\n",
    "    )\n",
    "\n",
    "\n",
    "def constraint_eq():\n",
    "    return lambda x: [x[0] + x[1] + x[2] - 700]\n",
    "\n",
    "\n",
    "constraint_eq = constraint_eq()\n",
    "\n",
    "ga = GA(\n",
    "    func=func,  # 目标函数\n",
    "    n_dim=3,  # 变量维度，就是变量有几个\n",
    "    size_pop=200,  # 种群数量\n",
    "    max_iter=1000,  # 最大迭代次数\n",
    "    lb=[100, 120, 150],  # 变量下限\n",
    "    ub=[200, 250, 300],  # 变量上限\n",
    "    constraint_eq=[constraint_eq],  # 等式条件\n",
    ")\n",
    "\n",
    "best_x, best_y = ga.run()  # 最优的解\n",
    "print(\"best_x: \", best_x, \"\\n\", \"best_y: \", best_y)"
   ]
  },
  {
   "cell_type": "code",
   "execution_count": null,
   "metadata": {},
   "outputs": [],
   "source": []
  }
 ],
 "metadata": {
  "kernelspec": {
   "display_name": "Python 3",
   "language": "python",
   "name": "python3"
  },
  "language_info": {
   "codemirror_mode": {
    "name": "ipython",
    "version": 3
   },
   "file_extension": ".py",
   "mimetype": "text/x-python",
   "name": "python",
   "nbconvert_exporter": "python",
   "pygments_lexer": "ipython3",
   "version": "3.12.1"
  }
 },
 "nbformat": 4,
 "nbformat_minor": 2
}
